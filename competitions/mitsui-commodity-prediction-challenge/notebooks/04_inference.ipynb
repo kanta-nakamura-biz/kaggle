{
 "cells": [
  {
   "cell_type": "markdown",
   "id": "06d43cc4",
   "metadata": {},
   "source": [
    "# 推論・提出 テンプレート\n",
    "\n",
    "このノートブックは、Kaggle競技における推論と提出ファイル作成のテンプレートです。"
   ]
  },
  {
   "cell_type": "markdown",
   "id": "43df7b0c",
   "metadata": {},
   "source": [
    "## 1. ライブラリのインポート"
   ]
  },
  {
   "cell_type": "code",
   "execution_count": null,
   "id": "14270836",
   "metadata": {},
   "outputs": [],
   "source": [
    "import pandas as pd\n",
    "import numpy as np\n",
    "import joblib\n",
    "import os\n",
    "from datetime import datetime\n",
    "import warnings\n",
    "warnings.filterwarnings(\"ignore\")\n",
    "\n",
    "# 設定\n",
    "pd.set_option(\"display.max_columns\", None)"
   ]
  },
  {
   "cell_type": "markdown",
   "id": "182f7f77",
   "metadata": {},
   "source": [
    "## 2. データとモデルの読み込み"
   ]
  },
  {
   "cell_type": "code",
   "execution_count": null,
   "id": "95e7f8db",
   "metadata": {},
   "outputs": [],
   "source": [
    "# テストデータの読み込み\n",
    "X_test = pd.read_csv(\"../data/processed/X_test_processed.csv\")\n",
    "print(f\"テストデータ形状: {X_test.shape}\")\n",
    "\n",
    "# 元のテストデータ（IDカラム用）\n",
    "test_original = pd.read_csv(\"../data/raw/test.csv\")\n",
    "print(f\"元のテストデータ形状: {test_original.shape}\")\n",
    "\n",
    "# モデルの読み込み（例：joblib形式）\n",
    "model_dir = \"../models/\"\n",
    "if os.path.exists(model_dir):\n",
    "    model_files = [f for f in os.listdir(model_dir) if f.endswith(\".joblib\")]\n",
    "    print(f\"利用可能なモデル: {model_files}\")\n",
    "    \n",
    "    # 複数のモデルを読み込み（アンサンブル用）\n",
    "    models = {}\n",
    "    for model_file in model_files:\n",
    "        model_name = model_file.replace(\".joblib\", \"\")\n",
    "        models[model_name] = joblib.load(os.path.join(model_dir, model_file))\n",
    "        print(f\"モデル読み込み完了: {model_name}\")\n",
    "else:\n",
    "    print(\"モデルディレクトリが見つかりません\")"
   ]
  },
  {
   "cell_type": "markdown",
   "id": "7ff7b445",
   "metadata": {},
   "source": [
    "## 3. 推論実行"
   ]
  },
  {
   "cell_type": "code",
   "execution_count": null,
   "id": "29ee884c",
   "metadata": {},
   "outputs": [],
   "source": [
    "# 推論実行（モデルが読み込まれている場合）\n",
    "if \"models\" in locals() and models:\n",
    "    if len(models) == 1:\n",
    "        # 単一モデルでの推論\n",
    "        model_name = list(models.keys())[0]\n",
    "        model = models[model_name]\n",
    "        \n",
    "        print(f\"単一モデル推論: {model_name}\")\n",
    "        predictions = model.predict(X_test)\n",
    "        \n",
    "    else:\n",
    "        # 複数モデルのアンサンブル\n",
    "        print(\"アンサンブル推論\")\n",
    "        all_predictions = []\n",
    "        \n",
    "        for model_name, model in models.items():\n",
    "            pred = model.predict(X_test)\n",
    "            all_predictions.append(pred)\n",
    "            print(f\"{model_name}の推論完了\")\n",
    "        \n",
    "        # 平均アンサンブル\n",
    "        predictions = np.mean(all_predictions, axis=0)\n",
    "        print(\"アンサンブル完了（平均）\")\n",
    "    \n",
    "    print(f\"予測値の形状: {predictions.shape}\")\n",
    "    print(f\"予測値の統計: min={predictions.min():.6f}, max={predictions.max():.6f}, mean={predictions.mean():.6f}\")\n",
    "else:\n",
    "    print(\"モデルが読み込まれていません。ダミーの予測値を作成します。\")\n",
    "    predictions = np.random.random(len(X_test))"
   ]
  },
  {
   "cell_type": "markdown",
   "id": "5b498f28",
   "metadata": {},
   "source": [
    "## 4. 提出ファイルの作成"
   ]
  },
  {
   "cell_type": "code",
   "execution_count": null,
   "id": "e621b5b9",
   "metadata": {},
   "outputs": [],
   "source": [
    "# IDカラムの特定（適宜調整）\n",
    "id_column = \"id\"  # 競技に応じて変更\n",
    "target_column = \"target\"  # 競技に応じて変更\n",
    "\n",
    "# 提出ファイルの作成\n",
    "if id_column in test_original.columns:\n",
    "    submission = pd.DataFrame({\n",
    "        id_column: test_original[id_column],\n",
    "        target_column: predictions\n",
    "    })\n",
    "else:\n",
    "    # IDカラムがない場合は連番で作成\n",
    "    submission = pd.DataFrame({\n",
    "        id_column: range(len(predictions)),\n",
    "        target_column: predictions\n",
    "    })\n",
    "\n",
    "print(f\"提出ファイル形状: {submission.shape}\")\n",
    "print(\"提出ファイルの最初の5行:\")\n",
    "display(submission.head())\n",
    "\n",
    "print(\"\\n提出ファイルの最後の5行:\")\n",
    "display(submission.tail())"
   ]
  },
  {
   "cell_type": "markdown",
   "id": "66afa26f",
   "metadata": {},
   "source": [
    "## 5. 提出ファイルの保存"
   ]
  },
  {
   "cell_type": "code",
   "execution_count": null,
   "id": "824897f8",
   "metadata": {},
   "outputs": [],
   "source": [
    "# タイムスタンプ付きファイル名\n",
    "timestamp = datetime.now().strftime(\"%Y%m%d_%H%M%S\")\n",
    "filename = f\"submission_{timestamp}.csv\"\n",
    "filepath = f\"../submissions/{filename}\"\n",
    "\n",
    "# ディレクトリが存在しない場合は作成\n",
    "os.makedirs(\"../submissions\", exist_ok=True)\n",
    "\n",
    "# ファイル保存\n",
    "submission.to_csv(filepath, index=False)\n",
    "print(f\"提出ファイルを保存しました: {filepath}\")\n",
    "\n",
    "# 最新の提出ファイルとしてもコピー\n",
    "latest_filepath = \"../submissions/latest_submission.csv\"\n",
    "submission.to_csv(latest_filepath, index=False)\n",
    "print(f\"最新提出ファイルを保存しました: {latest_filepath}\")"
   ]
  }
 ],
 "metadata": {},
 "nbformat": 4,
 "nbformat_minor": 5
}

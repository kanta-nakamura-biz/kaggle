{
 "cells": [
  {
   "cell_type": "markdown",
   "id": "25caa6a6",
   "metadata": {},
   "source": [
    "# 特徴量エンジニアリング テンプレート\n",
    "\n",
    "このノートブックは、Kaggle競技における特徴量エンジニアリングのテンプレートです。"
   ]
  },
  {
   "cell_type": "markdown",
   "id": "bd99763b",
   "metadata": {},
   "source": [
    "## 1. ライブラリのインポート"
   ]
  },
  {
   "cell_type": "code",
   "execution_count": null,
   "id": "7b0cb0be",
   "metadata": {},
   "outputs": [],
   "source": [
    "import pandas as pd\n",
    "import numpy as np\n",
    "from sklearn.preprocessing import StandardScaler, LabelEncoder, OneHotEncoder\n",
    "from sklearn.model_selection import train_test_split\n",
    "import warnings\n",
    "warnings.filterwarnings(\"ignore\")"
   ]
  },
  {
   "cell_type": "markdown",
   "id": "1c55df97",
   "metadata": {},
   "source": [
    "## 2. データの読み込み"
   ]
  },
  {
   "cell_type": "code",
   "execution_count": null,
   "id": "8e46e2b8",
   "metadata": {},
   "outputs": [],
   "source": [
    "# データの読み込み\n",
    "train = pd.read_csv(\"../data/raw/train.csv\")\n",
    "test = pd.read_csv(\"../data/raw/test.csv\")\n",
    "\n",
    "print(f\"訓練データ形状: {train.shape}\")\n",
    "print(f\"テストデータ形状: {test.shape}\")"
   ]
  },
  {
   "cell_type": "markdown",
   "id": "d9a26c80",
   "metadata": {},
   "source": [
    "## 3. 欠損値の処理"
   ]
  },
  {
   "cell_type": "code",
   "execution_count": null,
   "id": "712a5706",
   "metadata": {},
   "outputs": [],
   "source": [
    "# 欠損値の処理\n",
    "# 数値変数: 平均値で補完\n",
    "numeric_cols = train.select_dtypes(include=[np.number]).columns\n",
    "for col in numeric_cols:\n",
    "    if train[col].isnull().sum() > 0:\n",
    "        mean_val = train[col].mean()\n",
    "        train[col].fillna(mean_val, inplace=True)\n",
    "        test[col].fillna(mean_val, inplace=True)\n",
    "\n",
    "# カテゴリ変数: 最頻値で補完\n",
    "categorical_cols = train.select_dtypes(include=[\"object\"]).columns\n",
    "for col in categorical_cols:\n",
    "    if train[col].isnull().sum() > 0:\n",
    "        mode_val = train[col].mode()[0]\n",
    "        train[col].fillna(mode_val, inplace=True)\n",
    "        test[col].fillna(mode_val, inplace=True)"
   ]
  },
  {
   "cell_type": "markdown",
   "id": "911c5ce8",
   "metadata": {},
   "source": [
    "## 4. カテゴリ変数のエンコーディング"
   ]
  },
  {
   "cell_type": "code",
   "execution_count": null,
   "id": "3224bf2b",
   "metadata": {},
   "outputs": [],
   "source": [
    "# ラベルエンコーディング\n",
    "from sklearn.preprocessing import LabelEncoder\n",
    "\n",
    "le_dict = {}\n",
    "for col in categorical_cols:\n",
    "    le = LabelEncoder()\n",
    "    # 訓練データとテストデータを結合してエンコーディング\n",
    "    combined = pd.concat([train[col], test[col]], axis=0)\n",
    "    le.fit(combined)\n",
    "    train[col + \"_encoded\"] = le.transform(train[col])\n",
    "    test[col + \"_encoded\"] = le.transform(test[col])\n",
    "    le_dict[col] = le\n",
    "    \n",
    "print(\"ラベルエンコーディング完了\")"
   ]
  },
  {
   "cell_type": "markdown",
   "id": "c2298764",
   "metadata": {},
   "source": [
    "## 5. 数値変数の変換"
   ]
  },
  {
   "cell_type": "code",
   "execution_count": null,
   "id": "6f8ca4e1",
   "metadata": {},
   "outputs": [],
   "source": [
    "# 対数変換（正の値のみ）\n",
    "for col in numeric_cols:\n",
    "    if (train[col] > 0).all():\n",
    "        train[col + \"_log\"] = np.log1p(train[col])\n",
    "        test[col + \"_log\"] = np.log1p(test[col])\n",
    "\n",
    "# 標準化\n",
    "scaler = StandardScaler()\n",
    "scaled_cols = [col for col in numeric_cols if col != \"target\"]\n",
    "if scaled_cols:\n",
    "    train_scaled = scaler.fit_transform(train[scaled_cols])\n",
    "    test_scaled = scaler.transform(test[scaled_cols])\n",
    "    \n",
    "    for i, col in enumerate(scaled_cols):\n",
    "        train[col + \"_scaled\"] = train_scaled[:, i]\n",
    "        test[col + \"_scaled\"] = test_scaled[:, i]"
   ]
  },
  {
   "cell_type": "markdown",
   "id": "aee37437",
   "metadata": {},
   "source": [
    "## 6. 新しい特徴量の作成"
   ]
  },
  {
   "cell_type": "code",
   "execution_count": null,
   "id": "7d86a922",
   "metadata": {},
   "outputs": [],
   "source": [
    "# 特徴量の組み合わせ\n",
    "# 例: 数値特徴量同士の四則演算\n",
    "if len(numeric_cols) >= 2:\n",
    "    col1, col2 = numeric_cols[0], numeric_cols[1]\n",
    "    train[f\"{col1}_plus_{col2}\"] = train[col1] + train[col2]\n",
    "    train[f\"{col1}_minus_{col2}\"] = train[col1] - train[col2]\n",
    "    train[f\"{col1}_mult_{col2}\"] = train[col1] * train[col2]\n",
    "    train[f\"{col1}_div_{col2}\"] = train[col1] / (train[col2] + 1e-8)\n",
    "    \n",
    "    test[f\"{col1}_plus_{col2}\"] = test[col1] + test[col2]\n",
    "    test[f\"{col1}_minus_{col2}\"] = test[col1] - test[col2]\n",
    "    test[f\"{col1}_mult_{col2}\"] = test[col1] * test[col2]\n",
    "    test[f\"{col1}_div_{col2}\"] = test[col1] / (test[col2] + 1e-8)"
   ]
  },
  {
   "cell_type": "markdown",
   "id": "8841be38",
   "metadata": {},
   "source": [
    "## 7. 処理済みデータの保存"
   ]
  },
  {
   "cell_type": "code",
   "execution_count": null,
   "id": "7eac8dfc",
   "metadata": {},
   "outputs": [],
   "source": [
    "# 処理済みデータの保存\n",
    "os.makedirs(\"../data/processed\", exist_ok=True)\n",
    "\n",
    "# ターゲット変数の分離\n",
    "if \"target\" in train.columns:\n",
    "    X_train = train.drop(\"target\", axis=1)\n",
    "    y_train = train[\"target\"]\n",
    "else:\n",
    "    X_train = train\n",
    "    y_train = None\n",
    "\n",
    "X_test = test\n",
    "\n",
    "# 保存\n",
    "X_train.to_csv(\"../data/processed/X_train_processed.csv\", index=False)\n",
    "X_test.to_csv(\"../data/processed/X_test_processed.csv\", index=False)\n",
    "if y_train is not None:\n",
    "    y_train.to_csv(\"../data/processed/y_train.csv\", index=False)\n",
    "\n",
    "print(\"処理済みデータを保存しました\")\n",
    "print(f\"X_train形状: {X_train.shape}\")\n",
    "print(f\"X_test形状: {X_test.shape}\")\n",
    "if y_train is not None:\n",
    "    print(f\"y_train形状: {y_train.shape}\")"
   ]
  }
 ],
 "metadata": {},
 "nbformat": 4,
 "nbformat_minor": 5
}

{
 "cells": [
  {
   "cell_type": "markdown",
   "id": "5c39dab3",
   "metadata": {},
   "source": [
    "# 探索的データ分析 (EDA) テンプレート\n",
    "\n",
    "このノートブックは、Kaggle競技における探索的データ分析のテンプレートです。"
   ]
  },
  {
   "cell_type": "markdown",
   "id": "33367541",
   "metadata": {},
   "source": [
    "## 1. ライブラリのインポート"
   ]
  },
  {
   "cell_type": "code",
   "execution_count": null,
   "id": "42495901",
   "metadata": {},
   "outputs": [],
   "source": [
    "import pandas as pd\n",
    "import numpy as np\n",
    "import matplotlib.pyplot as plt\n",
    "import seaborn as sns\n",
    "import warnings\n",
    "warnings.filterwarnings(\"ignore\")\n",
    "\n",
    "# 設定\n",
    "plt.rcParams[\"figure.figsize\"] = (12, 8)\n",
    "pd.set_option(\"display.max_columns\", None)"
   ]
  },
  {
   "cell_type": "markdown",
   "id": "6cad92eb",
   "metadata": {},
   "source": [
    "## 2. データの読み込み"
   ]
  },
  {
   "cell_type": "code",
   "execution_count": null,
   "id": "d4456a05",
   "metadata": {},
   "outputs": [],
   "source": [
    "# データの読み込み\n",
    "train = pd.read_csv(\"../data/raw/train.csv\")\n",
    "test = pd.read_csv(\"../data/raw/test.csv\")\n",
    "\n",
    "print(f\"訓練データ形状: {train.shape}\")\n",
    "print(f\"テストデータ形状: {test.shape}\")"
   ]
  },
  {
   "cell_type": "markdown",
   "id": "133b7509",
   "metadata": {},
   "source": [
    "## 3. 基本情報の確認"
   ]
  },
  {
   "cell_type": "code",
   "execution_count": null,
   "id": "59e3bf32",
   "metadata": {},
   "outputs": [],
   "source": [
    "# 基本情報の表示\n",
    "print(\"=== 訓練データの基本情報 ===\")\n",
    "print(train.info())\n",
    "print(\"\\n=== 訓練データの統計情報 ===\")\n",
    "print(train.describe())"
   ]
  },
  {
   "cell_type": "markdown",
   "id": "8b09f854",
   "metadata": {},
   "source": [
    "## 4. 欠損値の確認"
   ]
  },
  {
   "cell_type": "code",
   "execution_count": null,
   "id": "93ceccbc",
   "metadata": {},
   "outputs": [],
   "source": [
    "# 欠損値の確認\n",
    "print(\"=== 訓練データの欠損値 ===\")\n",
    "print(train.isnull().sum())\n",
    "print(\"\\n=== テストデータの欠損値 ===\")\n",
    "print(test.isnull().sum())"
   ]
  },
  {
   "cell_type": "markdown",
   "id": "b5ae02d0",
   "metadata": {},
   "source": [
    "## 5. ターゲット変数の分析"
   ]
  },
  {
   "cell_type": "code",
   "execution_count": null,
   "id": "f74a78fe",
   "metadata": {},
   "outputs": [],
   "source": [
    "# ターゲット変数の分布\n",
    "if \"target\" in train.columns:\n",
    "    plt.figure(figsize=(12, 4))\n",
    "    plt.subplot(1, 2, 1)\n",
    "    train[\"target\"].hist(bins=50)\n",
    "    plt.title(\"Target Distribution\")\n",
    "    plt.subplot(1, 2, 2)\n",
    "    train[\"target\"].plot(kind=\"box\")\n",
    "    plt.title(\"Target Box Plot\")\n",
    "    plt.tight_layout()\n",
    "    plt.show()"
   ]
  },
  {
   "cell_type": "markdown",
   "id": "c74901c2",
   "metadata": {},
   "source": [
    "## 6. 特徴量の分析"
   ]
  },
  {
   "cell_type": "code",
   "execution_count": null,
   "id": "0638dee6",
   "metadata": {},
   "outputs": [],
   "source": [
    "# 数値特徴量の相関行列\n",
    "numeric_cols = train.select_dtypes(include=[np.number]).columns\n",
    "if len(numeric_cols) > 1:\n",
    "    plt.figure(figsize=(12, 10))\n",
    "    correlation_matrix = train[numeric_cols].corr()\n",
    "    sns.heatmap(correlation_matrix, annot=True, cmap=\"coolwarm\", center=0)\n",
    "    plt.title(\"Feature Correlation Matrix\")\n",
    "    plt.show()"
   ]
  },
  {
   "cell_type": "markdown",
   "id": "3fd13547",
   "metadata": {},
   "source": [
    "## 7. カテゴリ変数の分析"
   ]
  },
  {
   "cell_type": "code",
   "execution_count": null,
   "id": "99872894",
   "metadata": {},
   "outputs": [],
   "source": [
    "# カテゴリ変数の確認\n",
    "categorical_cols = train.select_dtypes(include=[\"object\"]).columns\n",
    "print(f\"カテゴリ変数: {list(categorical_cols)}\")\n",
    "\n",
    "for col in categorical_cols[:5]:  # 最初の5つのカテゴリ変数\n",
    "    print(f\"\\n=== {col} ===\")\n",
    "    print(train[col].value_counts().head(10))"
   ]
  }
 ],
 "metadata": {},
 "nbformat": 4,
 "nbformat_minor": 5
}

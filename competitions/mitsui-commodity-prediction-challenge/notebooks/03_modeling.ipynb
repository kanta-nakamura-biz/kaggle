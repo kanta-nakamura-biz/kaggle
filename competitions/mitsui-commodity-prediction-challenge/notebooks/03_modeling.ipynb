{
 "cells": [
  {
   "cell_type": "markdown",
   "id": "2a10de2a",
   "metadata": {},
   "source": [
    "# モデリング テンプレート\n",
    "\n",
    "このノートブックは、Kaggle競技におけるモデリングのテンプレートです。"
   ]
  },
  {
   "cell_type": "markdown",
   "id": "6d2bff9e",
   "metadata": {},
   "source": [
    "## 1. ライブラリのインポート"
   ]
  },
  {
   "cell_type": "code",
   "execution_count": null,
   "id": "c17df096",
   "metadata": {},
   "outputs": [],
   "source": [
    "import pandas as pd\n",
    "import numpy as np\n",
    "import matplotlib.pyplot as plt\n",
    "import seaborn as sns\n",
    "from sklearn.model_selection import KFold, StratifiedKFold, cross_val_score\n",
    "from sklearn.metrics import mean_squared_error, mean_absolute_error, r2_score\n",
    "from sklearn.metrics import accuracy_score, precision_score, recall_score, f1_score, roc_auc_score\n",
    "import lightgbm as lgb\n",
    "import xgboost as xgb\n",
    "import catboost as cb\n",
    "from sklearn.ensemble import RandomForestRegressor, RandomForestClassifier\n",
    "from sklearn.linear_model import LinearRegression, LogisticRegression, Ridge, Lasso\n",
    "import optuna\n",
    "import joblib\n",
    "import warnings\n",
    "warnings.filterwarnings(\"ignore\")\n",
    "\n",
    "# 設定\n",
    "plt.rcParams[\"figure.figsize\"] = (12, 8)\n",
    "pd.set_option(\"display.max_columns\", None)\n",
    "\n",
    "# シード設定\n",
    "SEED = 42\n",
    "np.random.seed(SEED)"
   ]
  },
  {
   "cell_type": "markdown",
   "id": "01e15130",
   "metadata": {},
   "source": [
    "## 2. データの読み込み"
   ]
  },
  {
   "cell_type": "code",
   "execution_count": null,
   "id": "95605971",
   "metadata": {},
   "outputs": [],
   "source": [
    "# 処理済みデータの読み込み\n",
    "X_train = pd.read_csv(\"../data/processed/X_train_processed.csv\")\n",
    "X_test = pd.read_csv(\"../data/processed/X_test_processed.csv\")\n",
    "y_train = pd.read_csv(\"../data/processed/y_train.csv\").iloc[:, 0]\n",
    "\n",
    "print(f\"訓練データ形状: {X_train.shape}\")\n",
    "print(f\"テストデータ形状: {X_test.shape}\")\n",
    "print(f\"ターゲット形状: {y_train.shape}\")"
   ]
  },
  {
   "cell_type": "markdown",
   "id": "03c8fac0",
   "metadata": {},
   "source": [
    "## 3. ベースラインモデルの構築"
   ]
  },
  {
   "cell_type": "code",
   "execution_count": null,
   "id": "e821b3dd",
   "metadata": {},
   "outputs": [],
   "source": [
    "# LightGBMベースラインモデル\n",
    "from sklearn.model_selection import KFold\n",
    "\n",
    "# クロスバリデーション設定\n",
    "kf = KFold(n_splits=5, shuffle=True, random_state=SEED)\n",
    "\n",
    "# LightGBMパラメータ\n",
    "lgb_params = {\n",
    "    \"objective\": \"regression\",\n",
    "    \"metric\": \"rmse\",\n",
    "    \"boosting_type\": \"gbdt\",\n",
    "    \"num_leaves\": 31,\n",
    "    \"learning_rate\": 0.05,\n",
    "    \"feature_fraction\": 0.9,\n",
    "    \"bagging_fraction\": 0.8,\n",
    "    \"bagging_freq\": 5,\n",
    "    \"verbose\": -1,\n",
    "    \"random_state\": SEED\n",
    "}\n",
    "\n",
    "# クロスバリデーション実行\n",
    "oof_predictions = np.zeros(len(X_train))\n",
    "test_predictions = np.zeros(len(X_test))\n",
    "cv_scores = []\n",
    "\n",
    "for fold, (train_idx, val_idx) in enumerate(kf.split(X_train)):\n",
    "    print(f\"Fold {fold + 1}\")\n",
    "    \n",
    "    X_train_fold, X_val_fold = X_train.iloc[train_idx], X_train.iloc[val_idx]\n",
    "    y_train_fold, y_val_fold = y_train.iloc[train_idx], y_train.iloc[val_idx]\n",
    "    \n",
    "    # LightGBMデータセット作成\n",
    "    train_data = lgb.Dataset(X_train_fold, label=y_train_fold)\n",
    "    val_data = lgb.Dataset(X_val_fold, label=y_val_fold, reference=train_data)\n",
    "    \n",
    "    # モデル訓練\n",
    "    model = lgb.train(\n",
    "        lgb_params,\n",
    "        train_data,\n",
    "        valid_sets=[val_data],\n",
    "        num_boost_round=1000,\n",
    "        callbacks=[lgb.early_stopping(100), lgb.log_evaluation(0)]\n",
    "    )\n",
    "    \n",
    "    # 予測\n",
    "    val_pred = model.predict(X_val_fold, num_iteration=model.best_iteration)\n",
    "    test_pred = model.predict(X_test, num_iteration=model.best_iteration)\n",
    "    \n",
    "    oof_predictions[val_idx] = val_pred\n",
    "    test_predictions += test_pred / 5\n",
    "    \n",
    "    # スコア計算\n",
    "    fold_score = np.sqrt(mean_squared_error(y_val_fold, val_pred))\n",
    "    cv_scores.append(fold_score)\n",
    "    print(f\"Fold {fold + 1} RMSE: {fold_score:.6f}\")\n",
    "\n",
    "# 全体のスコア\n",
    "overall_score = np.sqrt(mean_squared_error(y_train, oof_predictions))\n",
    "print(f\"\\nOverall CV RMSE: {overall_score:.6f}\")\n",
    "print(f\"CV RMSE: {np.mean(cv_scores):.6f} ± {np.std(cv_scores):.6f}\")"
   ]
  },
  {
   "cell_type": "markdown",
   "id": "f851883f",
   "metadata": {},
   "source": [
    "## 4. 提出ファイルの作成"
   ]
  },
  {
   "cell_type": "code",
   "execution_count": null,
   "id": "90c21b48",
   "metadata": {},
   "outputs": [],
   "source": [
    "# 提出ファイルの作成\n",
    "submission = pd.DataFrame({\n",
    "    \"id\": range(len(test_predictions)),  # 適宜IDカラムを調整\n",
    "    \"target\": test_predictions  # 適宜ターゲットカラム名を調整\n",
    "})\n",
    "\n",
    "os.makedirs(\"../submissions\", exist_ok=True)\n",
    "submission.to_csv(\"../submissions/baseline_submission.csv\", index=False)\n",
    "print(\"提出ファイルを保存しました: ../submissions/baseline_submission.csv\")\n",
    "print(f\"提出ファイル形状: {submission.shape}\")\n",
    "display(submission.head())"
   ]
  }
 ],
 "metadata": {},
 "nbformat": 4,
 "nbformat_minor": 5
}
